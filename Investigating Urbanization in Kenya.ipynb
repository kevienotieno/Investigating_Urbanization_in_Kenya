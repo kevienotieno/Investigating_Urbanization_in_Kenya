{
 "cells": [
  {
   "cell_type": "code",
   "execution_count": 3,
   "id": "19e65cf3",
   "metadata": {},
   "outputs": [],
   "source": [
    "#Loading packages\n",
    "pacman::p_load(tidyverse, tidyr, dplyr, readxl, janitor, ggplot2, gridExtra, stringr)"
   ]
  },
  {
   "cell_type": "code",
   "execution_count": 4,
   "id": "307cc1eb",
   "metadata": {},
   "outputs": [
    {
     "name": "stderr",
     "output_type": "stream",
     "text": [
      "\u001b[1m\u001b[22mNew names:\n",
      "\u001b[36m•\u001b[39m `` -> `...1`\n",
      "\u001b[36m•\u001b[39m `` -> `...9`\n",
      "\u001b[1m\u001b[22mNew names:\n",
      "\u001b[36m•\u001b[39m `` -> `...2`\n",
      "\u001b[36m•\u001b[39m `` -> `...3`\n",
      "\u001b[36m•\u001b[39m `` -> `...4`\n",
      "\u001b[36m•\u001b[39m `` -> `...5`\n",
      "\u001b[36m•\u001b[39m `` -> `...6`\n",
      "\u001b[36m•\u001b[39m `` -> `...7`\n",
      "\u001b[36m•\u001b[39m `` -> `...8`\n",
      "\u001b[36m•\u001b[39m `` -> `...9`\n",
      "\u001b[36m•\u001b[39m `` -> `...10`\n",
      "\u001b[36m•\u001b[39m `` -> `...11`\n",
      "\u001b[36m•\u001b[39m `` -> `...12`\n",
      "\u001b[36m•\u001b[39m `` -> `...13`\n",
      "\u001b[36m•\u001b[39m `` -> `...14`\n",
      "\u001b[36m•\u001b[39m `` -> `...15`\n",
      "\u001b[36m•\u001b[39m `` -> `...16`\n"
     ]
    }
   ],
   "source": [
    "#loading the datasets\n",
    "indicators = read_excel(\"Key-Economic-and-Social-Indicators.xlsx\")\n",
    "internationalscene = read_excel(\"International-Scene.xlsx\", sheet = 2)"
   ]
  },
  {
   "cell_type": "code",
   "execution_count": 5,
   "id": "1cd28221",
   "metadata": {},
   "outputs": [
    {
     "data": {
      "text/html": [
       "<style>\n",
       ".list-inline {list-style: none; margin:0; padding: 0}\n",
       ".list-inline>li {display: inline-block}\n",
       ".list-inline>li:not(:last-child)::after {content: \"\\00b7\"; padding: 0 .5ex}\n",
       "</style>\n",
       "<ol class=list-inline><li>'Table 1.2: Real GDP Growth, Inflation and Current Account Balances for Selected Regions and Countries, 2019-2023'</li><li>'...2'</li><li>'...3'</li><li>'...4'</li><li>'...5'</li><li>'...6'</li><li>'...7'</li><li>'...8'</li><li>'...9'</li><li>'...10'</li><li>'...11'</li><li>'...12'</li><li>'...13'</li><li>'...14'</li><li>'...15'</li><li>'...16'</li></ol>\n"
      ],
      "text/latex": [
       "\\begin{enumerate*}\n",
       "\\item 'Table 1.2: Real GDP Growth, Inflation and Current Account Balances for Selected Regions and Countries, 2019-2023'\n",
       "\\item '...2'\n",
       "\\item '...3'\n",
       "\\item '...4'\n",
       "\\item '...5'\n",
       "\\item '...6'\n",
       "\\item '...7'\n",
       "\\item '...8'\n",
       "\\item '...9'\n",
       "\\item '...10'\n",
       "\\item '...11'\n",
       "\\item '...12'\n",
       "\\item '...13'\n",
       "\\item '...14'\n",
       "\\item '...15'\n",
       "\\item '...16'\n",
       "\\end{enumerate*}\n"
      ],
      "text/markdown": [
       "1. 'Table 1.2: Real GDP Growth, Inflation and Current Account Balances for Selected Regions and Countries, 2019-2023'\n",
       "2. '...2'\n",
       "3. '...3'\n",
       "4. '...4'\n",
       "5. '...5'\n",
       "6. '...6'\n",
       "7. '...7'\n",
       "8. '...8'\n",
       "9. '...9'\n",
       "10. '...10'\n",
       "11. '...11'\n",
       "12. '...12'\n",
       "13. '...13'\n",
       "14. '...14'\n",
       "15. '...15'\n",
       "16. '...16'\n",
       "\n",
       "\n"
      ],
      "text/plain": [
       " [1] \"Table 1.2: Real GDP Growth, Inflation and Current Account Balances for Selected Regions and Countries, 2019-2023\"\n",
       " [2] \"...2\"                                                                                                            \n",
       " [3] \"...3\"                                                                                                            \n",
       " [4] \"...4\"                                                                                                            \n",
       " [5] \"...5\"                                                                                                            \n",
       " [6] \"...6\"                                                                                                            \n",
       " [7] \"...7\"                                                                                                            \n",
       " [8] \"...8\"                                                                                                            \n",
       " [9] \"...9\"                                                                                                            \n",
       "[10] \"...10\"                                                                                                           \n",
       "[11] \"...11\"                                                                                                           \n",
       "[12] \"...12\"                                                                                                           \n",
       "[13] \"...13\"                                                                                                           \n",
       "[14] \"...14\"                                                                                                           \n",
       "[15] \"...15\"                                                                                                           \n",
       "[16] \"...16\"                                                                                                           "
      ]
     },
     "metadata": {},
     "output_type": "display_data"
    }
   ],
   "source": [
    "#lets check the names of the columns\n",
    "names(internationalscene)"
   ]
  },
  {
   "cell_type": "code",
   "execution_count": 6,
   "id": "9a992def",
   "metadata": {},
   "outputs": [],
   "source": [
    "#data cleaning\n",
    "colnames(internationalscene)= internationalscene[1, ]\n",
    "internationalscene = internationalscene[-1, ]\n",
    "colnames(internationalscene)= internationalscene[1, ]\n",
    "internationalscene = internationalscene[-1, ]"
   ]
  },
  {
   "cell_type": "code",
   "execution_count": 7,
   "id": "4ff2ff7e",
   "metadata": {},
   "outputs": [],
   "source": [
    "#deleting a row and making another row the column heads\n",
    "internationalscene1 = internationalscene %>% t()\n",
    "colnames(internationalscene1) = internationalscene1[1, ]\n",
    "internationalscene1 = internationalscene1[-1, ]"
   ]
  },
  {
   "cell_type": "code",
   "execution_count": 8,
   "id": "584cccbf",
   "metadata": {},
   "outputs": [
    {
     "data": {
      "text/html": [
       "<style>\n",
       ".list-inline {list-style: none; margin:0; padding: 0}\n",
       ".list-inline>li {display: inline-block}\n",
       ".list-inline>li:not(:last-child)::after {content: \"\\00b7\"; padding: 0 .5ex}\n",
       "</style>\n",
       "<ol class=list-inline><li>'BRIICS'</li><li>'Brazil.........'</li><li>'Russia.........'</li><li>'India........'</li><li>'Indonesia......'</li><li>'China.........'</li><li>'South.Africa......'</li><li>'Sub.Saharan.Africa'</li><li>'EAC.5'</li><li>'Kenya........'</li><li>'Tanzania........'</li><li>'Uganda.........'</li><li>'Rwanda.........'</li><li>'Burundi.........'</li><li>'SADC'</li><li>'WAEMU'</li><li>'CEMAC'</li><li>'ASEAN.5'</li><li>'Indonesia........'</li><li>'Malaysia.......'</li><li>'Philippines......'</li><li>'Thailand.......'</li><li>'Vietnam........'</li><li>'Maghreb'</li><li>'Algeria........'</li><li>'Libya.........'</li><li>'Mauritania......'</li><li>'Morocco.......'</li><li>'Tunisia.........'</li><li>'Mashreq2'</li><li>'Egypt.........'</li><li>'Jordan........'</li><li>'Lebanon.......'</li><li>'Source..OECD.Economic.Outlook..November.2022.and.Regional.Economic.OutlookOctober.2022..various.issues..except.Kenya.whose.accounts.are.based.on.the.country.s.official.estimates'</li><li>'X..Provisional'</li><li>'X..Revised'</li><li>'X1.Projections'</li><li>'X2.Excludes.Syria.due.to.unavailability.of.data'</li><li>'...Data.not.available'</li><li>'Southern.African.Development.Community.SADC..includes..Angola..Botswana...Democratic.Republic.of.Congo..Lesotho..Madagascar..Malawi.'</li><li>'Mauritius..Mozambique..Namibia..Seychelles..South.Africa..Swaziland..United.Republic.of.Tanzania..Zambia.and.Zimbabwe.'</li><li>'West.African.Economic.and.Monetary.Union..WAEMU.includes..Benin..Burkina.Faso..Côte.d.Ivoire..Guinea.Bissau..Mali..Niger..Senegal..and.Togo.'</li><li>'Economic.and.Monetary.Union.of.Central.Africa..CEMAC..and.includes..Cameroon..Chad..Central.African.Republic..Equatorial.Guinea.Gabon.and.Republic.of.Congo'</li></ol>\n"
      ],
      "text/latex": [
       "\\begin{enumerate*}\n",
       "\\item 'BRIICS'\n",
       "\\item 'Brazil.........'\n",
       "\\item 'Russia.........'\n",
       "\\item 'India........'\n",
       "\\item 'Indonesia......'\n",
       "\\item 'China.........'\n",
       "\\item 'South.Africa......'\n",
       "\\item 'Sub.Saharan.Africa'\n",
       "\\item 'EAC.5'\n",
       "\\item 'Kenya........'\n",
       "\\item 'Tanzania........'\n",
       "\\item 'Uganda.........'\n",
       "\\item 'Rwanda.........'\n",
       "\\item 'Burundi.........'\n",
       "\\item 'SADC'\n",
       "\\item 'WAEMU'\n",
       "\\item 'CEMAC'\n",
       "\\item 'ASEAN.5'\n",
       "\\item 'Indonesia........'\n",
       "\\item 'Malaysia.......'\n",
       "\\item 'Philippines......'\n",
       "\\item 'Thailand.......'\n",
       "\\item 'Vietnam........'\n",
       "\\item 'Maghreb'\n",
       "\\item 'Algeria........'\n",
       "\\item 'Libya.........'\n",
       "\\item 'Mauritania......'\n",
       "\\item 'Morocco.......'\n",
       "\\item 'Tunisia.........'\n",
       "\\item 'Mashreq2'\n",
       "\\item 'Egypt.........'\n",
       "\\item 'Jordan........'\n",
       "\\item 'Lebanon.......'\n",
       "\\item 'Source..OECD.Economic.Outlook..November.2022.and.Regional.Economic.OutlookOctober.2022..various.issues..except.Kenya.whose.accounts.are.based.on.the.country.s.official.estimates'\n",
       "\\item 'X..Provisional'\n",
       "\\item 'X..Revised'\n",
       "\\item 'X1.Projections'\n",
       "\\item 'X2.Excludes.Syria.due.to.unavailability.of.data'\n",
       "\\item '...Data.not.available'\n",
       "\\item 'Southern.African.Development.Community.SADC..includes..Angola..Botswana...Democratic.Republic.of.Congo..Lesotho..Madagascar..Malawi.'\n",
       "\\item 'Mauritius..Mozambique..Namibia..Seychelles..South.Africa..Swaziland..United.Republic.of.Tanzania..Zambia.and.Zimbabwe.'\n",
       "\\item 'West.African.Economic.and.Monetary.Union..WAEMU.includes..Benin..Burkina.Faso..Côte.d.Ivoire..Guinea.Bissau..Mali..Niger..Senegal..and.Togo.'\n",
       "\\item 'Economic.and.Monetary.Union.of.Central.Africa..CEMAC..and.includes..Cameroon..Chad..Central.African.Republic..Equatorial.Guinea.Gabon.and.Republic.of.Congo'\n",
       "\\end{enumerate*}\n"
      ],
      "text/markdown": [
       "1. 'BRIICS'\n",
       "2. 'Brazil.........'\n",
       "3. 'Russia.........'\n",
       "4. 'India........'\n",
       "5. 'Indonesia......'\n",
       "6. 'China.........'\n",
       "7. 'South.Africa......'\n",
       "8. 'Sub.Saharan.Africa'\n",
       "9. 'EAC.5'\n",
       "10. 'Kenya........'\n",
       "11. 'Tanzania........'\n",
       "12. 'Uganda.........'\n",
       "13. 'Rwanda.........'\n",
       "14. 'Burundi.........'\n",
       "15. 'SADC'\n",
       "16. 'WAEMU'\n",
       "17. 'CEMAC'\n",
       "18. 'ASEAN.5'\n",
       "19. 'Indonesia........'\n",
       "20. 'Malaysia.......'\n",
       "21. 'Philippines......'\n",
       "22. 'Thailand.......'\n",
       "23. 'Vietnam........'\n",
       "24. 'Maghreb'\n",
       "25. 'Algeria........'\n",
       "26. 'Libya.........'\n",
       "27. 'Mauritania......'\n",
       "28. 'Morocco.......'\n",
       "29. 'Tunisia.........'\n",
       "30. 'Mashreq2'\n",
       "31. 'Egypt.........'\n",
       "32. 'Jordan........'\n",
       "33. 'Lebanon.......'\n",
       "34. 'Source..OECD.Economic.Outlook..November.2022.and.Regional.Economic.OutlookOctober.2022..various.issues..except.Kenya.whose.accounts.are.based.on.the.country.s.official.estimates'\n",
       "35. 'X..Provisional'\n",
       "36. 'X..Revised'\n",
       "37. 'X1.Projections'\n",
       "38. 'X2.Excludes.Syria.due.to.unavailability.of.data'\n",
       "39. '...Data.not.available'\n",
       "40. 'Southern.African.Development.Community.SADC..includes..Angola..Botswana...Democratic.Republic.of.Congo..Lesotho..Madagascar..Malawi.'\n",
       "41. 'Mauritius..Mozambique..Namibia..Seychelles..South.Africa..Swaziland..United.Republic.of.Tanzania..Zambia.and.Zimbabwe.'\n",
       "42. 'West.African.Economic.and.Monetary.Union..WAEMU.includes..Benin..Burkina.Faso..Côte.d.Ivoire..Guinea.Bissau..Mali..Niger..Senegal..and.Togo.'\n",
       "43. 'Economic.and.Monetary.Union.of.Central.Africa..CEMAC..and.includes..Cameroon..Chad..Central.African.Republic..Equatorial.Guinea.Gabon.and.Republic.of.Congo'\n",
       "\n",
       "\n"
      ],
      "text/plain": [
       " [1] \"BRIICS\"                                                                                                                                                                           \n",
       " [2] \"Brazil.........\"                                                                                                                                                                  \n",
       " [3] \"Russia.........\"                                                                                                                                                                  \n",
       " [4] \"India........\"                                                                                                                                                                    \n",
       " [5] \"Indonesia......\"                                                                                                                                                                  \n",
       " [6] \"China.........\"                                                                                                                                                                   \n",
       " [7] \"South.Africa......\"                                                                                                                                                               \n",
       " [8] \"Sub.Saharan.Africa\"                                                                                                                                                               \n",
       " [9] \"EAC.5\"                                                                                                                                                                            \n",
       "[10] \"Kenya........\"                                                                                                                                                                    \n",
       "[11] \"Tanzania........\"                                                                                                                                                                 \n",
       "[12] \"Uganda.........\"                                                                                                                                                                  \n",
       "[13] \"Rwanda.........\"                                                                                                                                                                  \n",
       "[14] \"Burundi.........\"                                                                                                                                                                 \n",
       "[15] \"SADC\"                                                                                                                                                                             \n",
       "[16] \"WAEMU\"                                                                                                                                                                            \n",
       "[17] \"CEMAC\"                                                                                                                                                                            \n",
       "[18] \"ASEAN.5\"                                                                                                                                                                          \n",
       "[19] \"Indonesia........\"                                                                                                                                                                \n",
       "[20] \"Malaysia.......\"                                                                                                                                                                  \n",
       "[21] \"Philippines......\"                                                                                                                                                                \n",
       "[22] \"Thailand.......\"                                                                                                                                                                  \n",
       "[23] \"Vietnam........\"                                                                                                                                                                  \n",
       "[24] \"Maghreb\"                                                                                                                                                                          \n",
       "[25] \"Algeria........\"                                                                                                                                                                  \n",
       "[26] \"Libya.........\"                                                                                                                                                                   \n",
       "[27] \"Mauritania......\"                                                                                                                                                                 \n",
       "[28] \"Morocco.......\"                                                                                                                                                                   \n",
       "[29] \"Tunisia.........\"                                                                                                                                                                 \n",
       "[30] \"Mashreq2\"                                                                                                                                                                         \n",
       "[31] \"Egypt.........\"                                                                                                                                                                   \n",
       "[32] \"Jordan........\"                                                                                                                                                                   \n",
       "[33] \"Lebanon.......\"                                                                                                                                                                   \n",
       "[34] \"Source..OECD.Economic.Outlook..November.2022.and.Regional.Economic.OutlookOctober.2022..various.issues..except.Kenya.whose.accounts.are.based.on.the.country.s.official.estimates\"\n",
       "[35] \"X..Provisional\"                                                                                                                                                                   \n",
       "[36] \"X..Revised\"                                                                                                                                                                       \n",
       "[37] \"X1.Projections\"                                                                                                                                                                   \n",
       "[38] \"X2.Excludes.Syria.due.to.unavailability.of.data\"                                                                                                                                  \n",
       "[39] \"...Data.not.available\"                                                                                                                                                            \n",
       "[40] \"Southern.African.Development.Community.SADC..includes..Angola..Botswana...Democratic.Republic.of.Congo..Lesotho..Madagascar..Malawi.\"                                             \n",
       "[41] \"Mauritius..Mozambique..Namibia..Seychelles..South.Africa..Swaziland..United.Republic.of.Tanzania..Zambia.and.Zimbabwe.\"                                                           \n",
       "[42] \"West.African.Economic.and.Monetary.Union..WAEMU.includes..Benin..Burkina.Faso..Côte.d.Ivoire..Guinea.Bissau..Mali..Niger..Senegal..and.Togo.\"                                     \n",
       "[43] \"Economic.and.Monetary.Union.of.Central.Africa..CEMAC..and.includes..Cameroon..Chad..Central.African.Republic..Equatorial.Guinea.Gabon.and.Republic.of.Congo\"                      "
      ]
     },
     "metadata": {},
     "output_type": "display_data"
    }
   ],
   "source": [
    "#column names\n",
    "internationalscene1 =data.frame(internationalscene1)\n",
    "names(internationalscene1)"
   ]
  },
  {
   "cell_type": "code",
   "execution_count": 9,
   "id": "1a71cab7",
   "metadata": {},
   "outputs": [],
   "source": [
    "#renaming the column\n",
    "internationalscene2 = internationalscene1 %>% \n",
    "  select(`Kenya........`, `Tanzania........`, `Uganda.........`, `Rwanda.........`,`Burundi.........`) \n",
    "internationalscene2 = internationalscene2 %>% rename(Kenya =`Kenya........`, Tanzania = `Tanzania........`, Uganda = `Uganda.........`, Rwanda = `Rwanda.........`, Burundi = `Burundi.........`)"
   ]
  },
  {
   "cell_type": "code",
   "execution_count": 10,
   "id": "96d336bf",
   "metadata": {},
   "outputs": [],
   "source": [
    "#moving index to be a new column\n",
    "internationalscene2= cbind(Year = rownames(internationalscene2),internationalscene2)\n",
    "rownames(internationalscene2)=1:nrow(internationalscene2)"
   ]
  },
  {
   "cell_type": "code",
   "execution_count": 11,
   "id": "27414264",
   "metadata": {},
   "outputs": [
    {
     "data": {
      "text/plain": [
       "     Year               Kenya          Tanzania          Uganda         \n",
       " Length:15          Min.   :-5.90   Min.   :-4.400   Min.   :-10.20000  \n",
       " Class :character   1st Qu.:-4.85   1st Qu.:-2.150   1st Qu.: -7.20000  \n",
       " Mode  :character   Median : 5.10   Median : 3.700   Median :  2.30000  \n",
       "                    Mean   : 1.84   Mean   : 2.013   Mean   :  0.06667  \n",
       "                    3rd Qu.: 6.20   3rd Qu.: 4.850   3rd Qu.:  6.15000  \n",
       "                    Max.   : 7.50   Max.   : 7.000   Max.   :  7.70000  \n",
       "     Rwanda             Burundi        \n",
       " Min.   :-12.60000   Min.   :-14.9000  \n",
       " 1st Qu.:-11.30000   1st Qu.:-10.9000  \n",
       " Median :  2.40000   Median :  1.8000  \n",
       " Mean   : -0.08667   Mean   : -0.7267  \n",
       " 3rd Qu.:  7.85000   3rd Qu.:  5.7000  \n",
       " Max.   : 10.90000   Max.   : 17.3000  "
      ]
     },
     "metadata": {},
     "output_type": "display_data"
    }
   ],
   "source": [
    "#changing the datatype for columns with numeric values to numeric\n",
    "internationalscene2$Kenya =as.numeric(internationalscene2$Kenya)\n",
    "internationalscene2$Tanzania =as.numeric(internationalscene2$Tanzania)\n",
    "internationalscene2$Uganda =as.numeric(internationalscene2$Uganda)\n",
    "internationalscene2$Rwanda =as.numeric(internationalscene2$Rwanda)\n",
    "internationalscene2$Burundi =as.numeric(internationalscene2$Burundi)\n",
    "summary(internationalscene2)"
   ]
  },
  {
   "cell_type": "code",
   "execution_count": 12,
   "id": "707a6b63",
   "metadata": {},
   "outputs": [],
   "source": [
    "#removing special characters\n",
    "internationalscene2$Year = str_replace_all(internationalscene2$Year, \"[^[:alnum:]]\",\"\")\n",
    "internationalscene2$Year =substr(internationalscene2$Year,2,5)"
   ]
  },
  {
   "cell_type": "code",
   "execution_count": 13,
   "id": "d809c69c",
   "metadata": {},
   "outputs": [],
   "source": [
    "#changing the datatype of Year to numeric\n",
    "internationalscene2$Year = as.numeric(internationalscene2$Year)"
   ]
  },
  {
   "cell_type": "code",
   "execution_count": 14,
   "id": "37a90b9d",
   "metadata": {},
   "outputs": [],
   "source": [
    "#creating independent datasets \n",
    "#gdp\n",
    "gdp = internationalscene2[1:5, ]\n",
    "inflation = internationalscene2[6:10, ]\n",
    "balances =internationalscene2[11:15, ]"
   ]
  },
  {
   "cell_type": "code",
   "execution_count": 15,
   "id": "0061f748",
   "metadata": {},
   "outputs": [],
   "source": [
    "#converting the datasets to longer\n",
    "gdp1 = gdp %>% \n",
    "  pivot_longer(\n",
    "    col =starts_with(c(\"Kenya\", \"Tanzania\", \"Uganda\",\"Rwanda\",\"Burundi\")),\n",
    "    names_to = \"Country\",\n",
    "    values_to = \"gdp\"\n",
    "  )\n",
    "\n",
    "inflation1 = inflation %>% \n",
    "  pivot_longer(\n",
    "    col = c(\"Kenya\", \"Tanzania\", \"Uganda\",\"Rwanda\",\"Burundi\"),\n",
    "    names_to = \"Country\",\n",
    "    values_to = \"Inflation\"\n",
    "  )\n",
    "\n",
    "balances1= balances %>% \n",
    "  pivot_longer(\n",
    "    col=c(\"Kenya\", \"Tanzania\", \"Uganda\",\"Rwanda\",\"Burundi\"),\n",
    "    names_to = \"Country\",\n",
    "    values_to = \"balances\"\n",
    "  )"
   ]
  },
  {
   "cell_type": "code",
   "execution_count": 16,
   "id": "269e09dd",
   "metadata": {},
   "outputs": [
    {
     "data": {
      "image/png": "[encoded data removed]",
      "text/plain": [
       "plot without title"
      ]
     },
     "metadata": {
      "image/png": {
       "height": 420,
       "width": 420
      }
     },
     "output_type": "display_data"
    }
   ],
   "source": [
    "#getting the trend line for gdp\n",
    "ggplot(gdp1, aes(x= Year, y= gdp, colour= Country))+\n",
    "  geom_line(linewidth=1)+\n",
    "  labs(title = \"Trend lines to show the gdp among some african countries\")+\n",
    "  theme_minimal()+\n",
    "  scale_colour_manual(values = c(\"red\",\"black\",\"green\",\"orange\",\"blue\"))\n",
    "\n",
    "#Higher GDP indicates a stronger economy, with urban areas offering better jobs, education, healthcare, and services. This migration from rural to urban areas fuels urbanization, as seen in Kenya's 2021 GDP increase."
   ]
  },
  {
   "cell_type": "code",
   "execution_count": 17,
   "id": "7a3e1e37",
   "metadata": {},
   "outputs": [
    {
     "data": {
      "image/png": "[encoded data removed]",
      "text/plain": [
       "plot without title"
      ]
     },
     "metadata": {
      "image/png": {
       "height": 420,
       "width": 420
      }
     },
     "output_type": "display_data"
    }
   ],
   "source": [
    "#visualization\n",
    "ggplot(inflation1, aes(x= Year, y = Inflation, colour =Country))+\n",
    "  geom_line(linewidth = 1)+\n",
    "  labs(title = \"Trend lines to show the rate of inflation between different countries\")+\n",
    "  theme_minimal()+\n",
    "  scale_colour_manual(values = c(\"pink\",\"black\",\"green\",\"orange\",\"blue\"))\n",
    "\n",
    "#Urbanization often involves increased demand for housing and commercial real estate in cities. When inflation is stable, it's easier for individuals and institutions to make real estate investments with confidence that property values won't erode rapidly due to inflation. This can encourage property development and urban growth.as shown in the graph kenya's inflation rate is moderate this is even supported by the graph on housing and development to be seen in the coming slides."
   ]
  },
  {
   "cell_type": "code",
   "execution_count": 18,
   "id": "fc45713a",
   "metadata": {},
   "outputs": [
    {
     "data": {
      "image/png": "[encoded data removed]",
      "text/plain": [
       "plot without title"
      ]
     },
     "metadata": {
      "image/png": {
       "height": 420,
       "width": 420
      }
     },
     "output_type": "display_data"
    }
   ],
   "source": [
    "ggplot(balances1, aes(x =Year, y = balances, colour =Country))+\n",
    "  geom_line(linewidth = 1)+\n",
    "  labs(title = \"Trend line to show the rate of the countries balances over time\")+\n",
    "  theme_minimal()"
   ]
  },
  {
   "cell_type": "code",
   "execution_count": 19,
   "id": "4946cfbd",
   "metadata": {},
   "outputs": [
    {
     "name": "stderr",
     "output_type": "stream",
     "text": [
      "\u001b[1m\u001b[22mNew names:\n",
      "\u001b[36m•\u001b[39m `` -> `...2`\n",
      "\u001b[36m•\u001b[39m `` -> `...3`\n",
      "\u001b[36m•\u001b[39m `` -> `...4`\n",
      "\u001b[36m•\u001b[39m `` -> `...5`\n",
      "\u001b[36m•\u001b[39m `` -> `...6`\n",
      "\u001b[36m•\u001b[39m `` -> `...7`\n"
     ]
    }
   ],
   "source": [
    "#Loading the next dataset\n",
    "construction_buildings = read_excel(\"Construction-Sector.xlsx\", sheet = 4)"
   ]
  },
  {
   "cell_type": "code",
   "execution_count": 20,
   "id": "051e5449",
   "metadata": {},
   "outputs": [],
   "source": [
    "#datacleaning\n",
    "#deleting a row and making another row the column heads\n",
    "colnames(construction_buildings) = construction_buildings[1, ]\n",
    "construction_buildings = construction_buildings[-1, ]\n",
    "colnames(construction_buildings) = construction_buildings[1, ]\n",
    "construction_buildings = construction_buildings[-1, ]\n",
    "construction_buildings = construction_buildings[-6, ]\n",
    "construction_buildings = construction_buildings[-6, ]\n",
    "#deleting columns i dont need\n",
    "construction_buildings = construction_buildings[, 1:4]\n",
    "#renaming the column non_residential\n",
    "construction_buildings=rename(construction_buildings,NonResidential=`Non- Residential`)"
   ]
  },
  {
   "cell_type": "code",
   "execution_count": 21,
   "id": "a5271cbb",
   "metadata": {},
   "outputs": [],
   "source": [
    "#converting the data to wide\n",
    "construction_buildings1 =construction_buildings %>% \n",
    "  pivot_longer(cols = c(\"Residential\",\"NonResidential\"),\n",
    "               names_to = \"House_type\",\n",
    "               values_to = \"No_of_houses\")"
   ]
  },
  {
   "cell_type": "code",
   "execution_count": 22,
   "id": "03c897b7",
   "metadata": {},
   "outputs": [
    {
     "data": {
      "image/png": "[encoded data removed]",
      "text/plain": [
       "plot without title"
      ]
     },
     "metadata": {
      "image/png": {
       "height": 420,
       "width": 420
      }
     },
     "output_type": "display_data"
    }
   ],
   "source": [
    "#stacked bar plot\n",
    "resident_plot= ggplot(construction_buildings1 , aes(x =Year, y =No_of_houses, fill=House_type))+\n",
    "  geom_bar(stat = \"identity\", position = \"dodge\")+\n",
    "  labs(title = \"No of houses being constructed in Nairobi\")+\n",
    "  theme_minimal()\n",
    "#calling our plot\n",
    "resident_plot"
   ]
  },
  {
   "cell_type": "code",
   "execution_count": 23,
   "id": "f4608430",
   "metadata": {},
   "outputs": [
    {
     "data": {
      "image/png": "[encoded data removed]",
      "text/plain": [
       "plot without title"
      ]
     },
     "metadata": {
      "image/png": {
       "height": 420,
       "width": 420
      }
     },
     "output_type": "display_data"
    }
   ],
   "source": [
    "#barplot to show the increase in the number of buildings in Nairobi city\n",
    "build_plot =ggplot(construction_buildings, aes(x = Year, y =Total))+\n",
    "  geom_bar(width = 0.9,stat = \"identity\", col =\"black\", fill = c(\"blue\", \"green\", \"yellow\", \"orange\", \"purple\"))+\n",
    "  labs(title = \"No of buildings in Nairobi\", y = \"Buildings\")+\n",
    "  theme_minimal()\n",
    "#calling our plot\n",
    "build_plot"
   ]
  },
  {
   "cell_type": "code",
   "execution_count": 27,
   "id": "7d8731eb",
   "metadata": {},
   "outputs": [
    {
     "data": {
      "image/png": "[encoded data removed]",
      "text/plain": [
       "plot without title"
      ]
     },
     "metadata": {
      "image/png": {
       "height": 420,
       "width": 420
      }
     },
     "output_type": "display_data"
    }
   ],
   "source": [
    "#merging the maps to appear on one pic\n",
    "grid.arrange(resident_plot, build_plot, ncol =2)\n",
    "#Population Growth: The construction of residential buildings often goes hand in hand with population growth in urban areas. As more housing becomes available, it can accommodate a larger population, contributing to urbanization. People from rural areas or other regions may migrate to urban centers in search of better job opportunities and living conditions. Urban Sprawl: The construction of both residential and non-residential buildings can contribute to urban sprawl, where cities expand outward. This can lead to increased urbanization as areas that were previously rural or undeveloped become integrated into the urban fabric. As shown in the plot, the number of buildings has been increasing."
   ]
  },
  {
   "cell_type": "code",
   "execution_count": 30,
   "id": "2cb8516b",
   "metadata": {},
   "outputs": [
    {
     "name": "stderr",
     "output_type": "stream",
     "text": [
      "\u001b[1m\u001b[22mNew names:\n",
      "\u001b[36m•\u001b[39m `` -> `...2`\n",
      "\u001b[36m•\u001b[39m `` -> `...3`\n",
      "\u001b[36m•\u001b[39m `` -> `...4`\n",
      "\u001b[36m•\u001b[39m `` -> `...5`\n",
      "\u001b[36m•\u001b[39m `` -> `...6`\n"
     ]
    }
   ],
   "source": [
    "#loading another dataset\n",
    "labour =read_excel(\"Construction-Sector.xlsx\", sheet = 3)"
   ]
  },
  {
   "cell_type": "code",
   "execution_count": 31,
   "id": "30f3196c",
   "metadata": {},
   "outputs": [],
   "source": [
    "#cleaning the dataset\n",
    "###deleting a row and making another row the column heads\n",
    "colnames(labour) = labour[1, ]\n",
    "labour = labour[-1, ]\n",
    "colnames(labour)= labour[1, ]\n",
    "labour = labour[-1, ]\n",
    "labour = labour[-1, ]\n",
    "labour = labour[-(4:8), ]"
   ]
  },
  {
   "cell_type": "code",
   "execution_count": 32,
   "id": "ff2067e0",
   "metadata": {},
   "outputs": [],
   "source": [
    "#transposing(making rows columns and columns to be rows)\n",
    "labour = data.frame(t(labour))\n",
    "#deleting a row and making another row the column heads\n",
    "colnames(labour) = labour[1, ]\n",
    "labour = labour[-1, ]\n",
    "#pushing index to a column and giving the index numbers\n",
    "labour1= cbind(Year = rownames(labour),labour)\n",
    "rownames(labour1)=1:nrow(labour1)"
   ]
  },
  {
   "cell_type": "code",
   "execution_count": 33,
   "id": "abae9f93",
   "metadata": {},
   "outputs": [],
   "source": [
    "#converting datset from wide to long format\n",
    "labour_long = labour1 %>% pivot_longer(\n",
    "  cols = c(\"Unskilled\",\"Semi-Skilled\",\"Skilled\"),\n",
    "  names_to =  \"Skill\",\n",
    "  values_to = \"Count\"\n",
    ")"
   ]
  },
  {
   "cell_type": "code",
   "execution_count": 34,
   "id": "db4bae4c",
   "metadata": {},
   "outputs": [
    {
     "data": {
      "image/png": "[encoded data removed]",
      "text/plain": [
       "plot without title"
      ]
     },
     "metadata": {
      "image/png": {
       "height": 420,
       "width": 420
      }
     },
     "output_type": "display_data"
    }
   ],
   "source": [
    "#stacked bar\n",
    "ggplot(labour_long, aes(x = Year, y = Count, fill = Skill))+\n",
    "  geom_bar(stat =\"identity\", position = \"dodge\")+\n",
    "  labs(title = \"Bar chart to show the increase in the counts in skillset\")+\n",
    "  theme_minimal()+\n",
    "  scale_fill_manual(values = c(\"blue\", \"green\", \"purple\"))\n",
    "#Urbanization is driven by better job opportunities in urban areas, which attract businesses and industries requiring skilled labor. Skilled workers contribute to higher productivity and economic growth, leading to the expansion and development of urban areas. Skilled labor is essential in knowledge-based and technology-driven industries, creating specialized urban ecosystems. As the skill level improves, these clusters attract more talent and investment.According to the graph the skills are in the country are increasing."
   ]
  },
  {
   "cell_type": "code",
   "execution_count": 35,
   "id": "7fa84089",
   "metadata": {},
   "outputs": [
    {
     "name": "stderr",
     "output_type": "stream",
     "text": [
      "\u001b[1m\u001b[22mNew names:\n",
      "\u001b[36m•\u001b[39m `` -> `...2`\n",
      "\u001b[36m•\u001b[39m `` -> `...3`\n",
      "\u001b[36m•\u001b[39m `` -> `...4`\n",
      "\u001b[36m•\u001b[39m `` -> `...5`\n",
      "\u001b[36m•\u001b[39m `` -> `...6`\n"
     ]
    }
   ],
   "source": [
    "#loading dataset\n",
    "money = read_excel(\"International-Trade-and-Balance-of-Payments.xlsx\", sheet = 18)"
   ]
  },
  {
   "cell_type": "code",
   "execution_count": 36,
   "id": "5485e26b",
   "metadata": {},
   "outputs": [],
   "source": [
    "#cleaning dataset\n",
    "colnames(money)= money[1, ]\n",
    "money = money[-1, ]\n",
    "money= money[-(24:30), ]\n",
    "money = money[-(12:22), ]\n",
    "money = money[-(4:10), ]"
   ]
  },
  {
   "cell_type": "code",
   "execution_count": 37,
   "id": "79890fad",
   "metadata": {},
   "outputs": [],
   "source": [
    "#getting data ready for analysis\n",
    "#transpose\n",
    "money = t(money)\n",
    "#making 1st row a column\n",
    "colnames(money)= money[1, ]\n",
    "money = money[-1, ]\n",
    "#making the indexes to be 1st row\n",
    "money= cbind(Year = rownames(money),money)\n",
    "rownames(money)=1:nrow(money)\n",
    "#cleaning the column names\n",
    "money = data.frame(clean_names(money))"
   ]
  },
  {
   "cell_type": "code",
   "execution_count": 38,
   "id": "5fc936a6",
   "metadata": {},
   "outputs": [],
   "source": [
    "#converting the data into a long format\n",
    "money =  money %>% select(year,x1_euro2,x1_us_dollar,x1_pound_sterling)\n",
    "money1 = money %>% \n",
    "  pivot_longer(\n",
    "    cols = c(\"x1_euro2\",\"x1_us_dollar\",\"x1_pound_sterling\"),\n",
    "    names_to = \"Currency\",\n",
    "    values_to = \"Amount\"\n",
    "  )"
   ]
  },
  {
   "cell_type": "code",
   "execution_count": 39,
   "id": "d12f59ed",
   "metadata": {},
   "outputs": [],
   "source": [
    "#changing the datatype for amount to numeric and rounding it to two digits\n",
    "money1$Amount = as.numeric(money1$Amount)\n",
    "money1$Amount = round(money1$Amount, digits = 2)"
   ]
  },
  {
   "cell_type": "code",
   "execution_count": 40,
   "id": "39ab18db",
   "metadata": {},
   "outputs": [
    {
     "data": {
      "image/png": "[encoded data removed]",
      "text/plain": [
       "plot without title"
      ]
     },
     "metadata": {
      "image/png": {
       "height": 420,
       "width": 420
      }
     },
     "output_type": "display_data"
    }
   ],
   "source": [
    "#plot\n",
    "ggplot(money1, aes(x = year, y = Amount, fill = Currency))+\n",
    "  geom_bar(stat = \"identity\", position = \"dodge\")+\n",
    "  labs(title = \"Increase in value of different currencies against the Kenyan Shillings\")+\n",
    "  scale_fill_manual(values = c(\"blue\", \"orange\", \"purple\"))\n",
    "#Inflation affects a country's exchange rates, causing it to depreciate relative to lower-inflation countries. This depreciation reduces a currency's purchasing power, making it less attractive to investors. However, moderate inflation can encourage investment in urban areas, leading to growth and expansion.According to the graph the Kenyan currency is weakening."
   ]
  },
  {
   "cell_type": "code",
   "execution_count": 41,
   "id": "c394eb3c",
   "metadata": {},
   "outputs": [
    {
     "name": "stderr",
     "output_type": "stream",
     "text": [
      "\u001b[1m\u001b[22mNew names:\n",
      "\u001b[36m•\u001b[39m `` -> `...2`\n",
      "\u001b[36m•\u001b[39m `` -> `...3`\n",
      "\u001b[36m•\u001b[39m `` -> `...4`\n",
      "\u001b[36m•\u001b[39m `` -> `...5`\n",
      "\u001b[36m•\u001b[39m `` -> `...6`\n",
      "\u001b[36m•\u001b[39m `` -> `...7`\n",
      "\u001b[36m•\u001b[39m `` -> `...8`\n",
      "\u001b[36m•\u001b[39m `` -> `...9`\n",
      "\u001b[36m•\u001b[39m `` -> `...10`\n",
      "\u001b[36m•\u001b[39m `` -> `...11`\n",
      "\u001b[36m•\u001b[39m `` -> `...12`\n"
     ]
    }
   ],
   "source": [
    "#loading dataset\n",
    "traffic =read_excel(\"Governance-and-Peace-Security.xlsx\", sheet = 1)"
   ]
  },
  {
   "cell_type": "code",
   "execution_count": 42,
   "id": "37cb772a",
   "metadata": {},
   "outputs": [],
   "source": [
    "#data cleaning\n",
    "colnames(traffic)= traffic[1, ]\n",
    "traffic = traffic[-1, ]\n",
    "colnames(traffic) = traffic[1, ]\n",
    "traffic = traffic[-1, ]\n",
    "#deleting unnecessary rows\n",
    "traffic = traffic[-(1:10), ]\n",
    "traffic = traffic[-(12:94), ]\n",
    "traffic = traffic[-(2:11), ]\n",
    "#selecting columns that I only need\n",
    "traffic = traffic[, -(7:12)]\n",
    "traffic = traffic[, -1]\n",
    "#transpose\n",
    "traffic =clean_names(traffic)\n",
    "traffic$x2022 = as.numeric(traffic$x2022)\n",
    "traffic1 =traffic %>% pivot_longer(\n",
    "  cols = c(\"x2018\",\"x2019\",\"x2020\",\"x2021\", \"x2022\"),\n",
    "  names_to = \"Year\",\n",
    "  values_to = \"Offences_Count\"\n",
    ")"
   ]
  },
  {
   "cell_type": "code",
   "execution_count": 43,
   "id": "06049700",
   "metadata": {},
   "outputs": [
    {
     "data": {
      "image/png": "[encoded data removed]",
      "text/plain": [
       "plot without title"
      ]
     },
     "metadata": {
      "image/png": {
       "height": 420,
       "width": 420
      }
     },
     "output_type": "display_data"
    }
   ],
   "source": [
    "#line plot for traffic offences\n",
    "ggplot(traffic1, aes(x= Year, y =Offences_Count))+\n",
    "  geom_bar(stat = \"identity\", fill= \"purple\")+\n",
    "  labs(title = \"Plot to show the trend of traffic offences over time\")\n",
    "#Reduced traffic offenses lead to improved traffic safety, reducing accidents and injuries. This encourages more people to use public transportation systems, such as public transit, cycling, or walking. Lower traffic offenses also enhance public transportation systems, making them more efficient and reducing congestion and pollution in urban areas. Cities with lower traffic offenses attract businesses and investors due to well-managed transportation systems and safety reputations, potentially leading to increased economic activity and urban growth. As shown in the graph the number of traffic offences has been decreasing overall."
   ]
  },
  {
   "cell_type": "code",
   "execution_count": 44,
   "id": "a6fca3f0",
   "metadata": {},
   "outputs": [],
   "source": [
    "#loading dataset\n",
    "agric_maize = read_excel(\"Agriculture-Sector.xlsx\", sheet = 9, skip = 2 )"
   ]
  },
  {
   "cell_type": "code",
   "execution_count": 45,
   "id": "30033586",
   "metadata": {},
   "outputs": [],
   "source": [
    "#data cleaning\n",
    "agric_maize = agric_maize[-(6:8) ,] \n",
    "agric_maize = agric_maize[ , -2]\n",
    "#transpose\n",
    "agric_maize = data.frame(t(agric_maize))\n",
    "#moving the column\n",
    "colnames(agric_maize)= agric_maize[1, ]\n",
    "agric_maize = agric_maize[-1, ]\n",
    "#cleaning the column names\n",
    "agric_maize= clean_names(agric_maize)\n",
    "#moving the rownames\n",
    "agric_maize =cbind(Year = rownames(agric_maize), agric_maize)\n",
    "rownames(agric_maize)= 1:nrow(agric_maize)\n",
    "#converting to numeric\n",
    "agric_maize$maize= as.numeric(agric_maize$maize)\n",
    "agric_maize$beans= as.numeric(agric_maize$beans)\n",
    "agric_maize$potatoes= as.numeric(agric_maize$potatoes)\n",
    "agric_maize$sorghum= as.numeric(agric_maize$sorghum)\n",
    "agric_maize$millet= as.numeric(agric_maize$millet)"
   ]
  },
  {
   "cell_type": "code",
   "execution_count": 46,
   "id": "c104e19a",
   "metadata": {},
   "outputs": [],
   "source": [
    "#converting dataset to longer\n",
    "agric_maize1 = agric_maize %>% \n",
    "  pivot_longer(\n",
    "    cols = c(\"maize\",\"beans\",\"potatoes\",\"sorghum\",\"millet\"),\n",
    "    names_to = \"Crop\",\n",
    "    values_to = \"Million_bags\"\n",
    "  )"
   ]
  },
  {
   "cell_type": "code",
   "execution_count": 47,
   "id": "c65fcf83",
   "metadata": {},
   "outputs": [
    {
     "data": {
      "image/png": "[encoded data removed]",
      "text/plain": [
       "plot without title"
      ]
     },
     "metadata": {
      "image/png": {
       "height": 420,
       "width": 420
      }
     },
     "output_type": "display_data"
    }
   ],
   "source": [
    "#visualization\n",
    "ggplot(agric_maize1, aes(x= Year, y= Million_bags, fill = Crop))+\n",
    "  geom_bar(stat = \"identity\",position = \"dodge\")+\n",
    "  labs(title = \"The trend for production of Crops in Million Bags and Potatoes in Tonnes\")+\n",
    "  theme_minimal()+\n",
    "  scale_fill_manual(values = c(\"blue\", \"green\",\"yellow\",\"orange\",\"purple\"))\n",
    "#Reduced traffic offenses lead to improved traffic safety, reducing accidents and injuries. This encourages more people to use public transportation systems, such as public transit, cycling, or walking. Lower traffic offenses also enhance public transportation systems, making them more efficient and reducing congestion and pollution in urban areas. Cities with lower traffic offenses attract businesses and investors due to well-managed transportation systems and safety reputations, potentially leading to increased economic activity and urban growth. As shown in the graph the number of traffic offences has been decreasing overall."
   ]
  },
  {
   "cell_type": "code",
   "execution_count": 49,
   "id": "92212e37",
   "metadata": {},
   "outputs": [
    {
     "ename": "ERROR",
     "evalue": "Error in parse(text = x, srcfile = src): <text>:6:14: unexpected symbol\n5: #traffic offenses persist. As cities expand, construction and population growth contribute to urbanization, \n6: transforming rural\n                ^\n",
     "output_type": "error",
     "traceback": [
      "Error in parse(text = x, srcfile = src): <text>:6:14: unexpected symbol\n5: #traffic offenses persist. As cities expand, construction and population growth contribute to urbanization, \n6: transforming rural\n                ^\nTraceback:\n"
     ]
    }
   ],
   "source": [
    "#Conclusion\n",
    "#Urbanization is thus a complex phenomenon marked by a significant migration from rural to urban areas, \n",
    "#offering economic prospects and better living conditions. Factors such as GDP growth, stable inflation, \n",
    "#and skilled labor drive this urban shift. However, challenges like declining agricultural production and \n",
    "#traffic offenses persist. As cities expand, construction and population growth contribute to urbanization, \n",
    "transforming rural regions into urban centers. It is crucial to address infrastructure, services, and \n",
    "environmental concerns to ensure that urbanization fosters positive economic growth, equality, and sustainability, \n",
    "rather than exacerbating inequalities and environmental issues. \n",
    "\n",
    "Recommendations\n",
    "\n",
    "Investing in infrastructure\n",
    "Promoting sustainable practices\n",
    "Enhancing access to education and healthcare.\n"
   ]
  },
  {
   "cell_type": "code",
   "execution_count": null,
   "id": "1fe2308f",
   "metadata": {},
   "outputs": [],
   "source": []
  },
  {
   "cell_type": "code",
   "execution_count": null,
   "id": "3ad24471",
   "metadata": {},
   "outputs": [],
   "source": []
  },
  {
   "cell_type": "code",
   "execution_count": null,
   "id": "6a589d37",
   "metadata": {},
   "outputs": [],
   "source": []
  },
  {
   "cell_type": "code",
   "execution_count": null,
   "id": "880ad639",
   "metadata": {},
   "outputs": [],
   "source": []
  },
  {
   "cell_type": "code",
   "execution_count": null,
   "id": "f1f78638",
   "metadata": {},
   "outputs": [],
   "source": []
  }
 ],
 "metadata": {
  "kernelspec": {
   "display_name": "R",
   "language": "R",
   "name": "ir"
  },
  "language_info": {
   "codemirror_mode": "r",
   "file_extension": ".r",
   "mimetype": "text/x-r-source",
   "name": "R",
   "pygments_lexer": "r",
   "version": "4.3.1"
  }
 },
 "nbformat": 4,
 "nbformat_minor": 5
}
